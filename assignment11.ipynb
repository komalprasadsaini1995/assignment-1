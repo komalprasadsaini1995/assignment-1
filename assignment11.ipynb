{
 "cells": [
  {
   "cell_type": "markdown",
   "id": "152df226-8045-49a7-8361-b88e767907c5",
   "metadata": {},
   "source": [
    "1. Creating a DataFrame"
   ]
  },
  {
   "cell_type": "code",
   "execution_count": 1,
   "id": "aba48f33-cd39-4660-a811-e423df2ca420",
   "metadata": {},
   "outputs": [
    {
     "name": "stdout",
     "output_type": "stream",
     "text": [
      "  Product  Price  Quantity\n",
      "0       A    100        10\n",
      "1       B    150        15\n",
      "2       C    200         8\n",
      "3       D    130        12\n"
     ]
    }
   ],
   "source": [
    "import pandas as pd\n",
    "\n",
    "# Create DataFrame\n",
    "data = {\n",
    "    'Product': ['A', 'B', 'C', 'D'],\n",
    "    'Price': [100, 150, 200, 130],\n",
    "    'Quantity': [10, 15, 8, 12]\n",
    "}\n",
    "\n",
    "df = pd.DataFrame(data)\n",
    "print(df)"
   ]
  },
  {
   "cell_type": "markdown",
   "id": "25bdcb4f-6ba6-4c90-8ee6-03507c4fbd35",
   "metadata": {},
   "source": [
    "2. Basic Data Inspection\n",
    "(a) Show the first two rows"
   ]
  },
  {
   "cell_type": "code",
   "execution_count": 2,
   "id": "11d66a07-c929-48a7-adf8-2da055139fd7",
   "metadata": {},
   "outputs": [
    {
     "name": "stdout",
     "output_type": "stream",
     "text": [
      "  Product  Price  Quantity\n",
      "0       A    100        10\n",
      "1       B    150        15\n"
     ]
    }
   ],
   "source": [
    "print(df.head(2))"
   ]
  },
  {
   "cell_type": "markdown",
   "id": "54301e65-926b-4fa8-9fb9-515864a8fdda",
   "metadata": {},
   "source": [
    "(b) Display column names and data types"
   ]
  },
  {
   "cell_type": "code",
   "execution_count": 3,
   "id": "5bac3c9e-2529-46d9-8805-fe5c7245495f",
   "metadata": {},
   "outputs": [
    {
     "name": "stdout",
     "output_type": "stream",
     "text": [
      "Product     object\n",
      "Price        int64\n",
      "Quantity     int64\n",
      "dtype: object\n"
     ]
    }
   ],
   "source": [
    "print(df.dtypes)"
   ]
  },
  {
   "cell_type": "markdown",
   "id": "d1d16c1d-ca89-49c8-8803-9eda7aa7581a",
   "metadata": {},
   "source": [
    "(c) Check for missing values"
   ]
  },
  {
   "cell_type": "code",
   "execution_count": 4,
   "id": "679ec5d9-96e9-48d9-ae85-e9c92ef4f79e",
   "metadata": {},
   "outputs": [
    {
     "name": "stdout",
     "output_type": "stream",
     "text": [
      "Product     0\n",
      "Price       0\n",
      "Quantity    0\n",
      "dtype: int64\n"
     ]
    }
   ],
   "source": [
    "print(df.isnull().sum())"
   ]
  },
  {
   "cell_type": "markdown",
   "id": "2ae015c8-ad59-4522-b220-d4e8c1ffed04",
   "metadata": {},
   "source": [
    "3. Filtering Data (Price > 130)"
   ]
  },
  {
   "cell_type": "code",
   "execution_count": 5,
   "id": "9fa46a3f-f29b-44b7-9891-7bcf19f90754",
   "metadata": {},
   "outputs": [
    {
     "name": "stdout",
     "output_type": "stream",
     "text": [
      "  Product  Price  Quantity\n",
      "1       B    150        15\n",
      "2       C    200         8\n"
     ]
    }
   ],
   "source": [
    "filtered_df = df[df['Price'] > 130]\n",
    "print(filtered_df)"
   ]
  },
  {
   "cell_type": "code",
   "execution_count": null,
   "id": "84106d3b-0c1a-45e0-bb8d-2881ccbc16bb",
   "metadata": {},
   "outputs": [],
   "source": []
  }
 ],
 "metadata": {
  "kernelspec": {
   "display_name": "Python 3 (ipykernel)",
   "language": "python",
   "name": "python3"
  },
  "language_info": {
   "codemirror_mode": {
    "name": "ipython",
    "version": 3
   },
   "file_extension": ".py",
   "mimetype": "text/x-python",
   "name": "python",
   "nbconvert_exporter": "python",
   "pygments_lexer": "ipython3",
   "version": "3.12.7"
  }
 },
 "nbformat": 4,
 "nbformat_minor": 5
}
